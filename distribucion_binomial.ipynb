{
  "nbformat": 4,
  "nbformat_minor": 0,
  "metadata": {
    "colab": {
      "name": "Untitled0.ipynb",
      "provenance": [],
      "collapsed_sections": [],
      "toc_visible": true,
      "authorship_tag": "ABX9TyO0fMDWs8AfZRJt3lMUaSRC",
      "include_colab_link": true
    },
    "kernelspec": {
      "name": "python3",
      "display_name": "Python 3"
    },
    "language_info": {
      "name": "python"
    }
  },
  "cells": [
    {
      "cell_type": "markdown",
      "metadata": {
        "id": "view-in-github",
        "colab_type": "text"
      },
      "source": [
        "<a href=\"https://colab.research.google.com/github/jagg2994/dist_binomial/blob/master/distribucion_binomial.ipynb\" target=\"_parent\"><img src=\"https://colab.research.google.com/assets/colab-badge.svg\" alt=\"Open In Colab\"/></a>"
      ]
    },
    {
      "cell_type": "code",
      "metadata": {
        "id": "w0we2aIkYl7F"
      },
      "source": [
        "import numpy as np\n",
        "import datetime\n",
        "from datetime import date"
      ],
      "execution_count": 2,
      "outputs": []
    },
    {
      "cell_type": "markdown",
      "metadata": {
        "id": "vMOm_ZzaZNtU"
      },
      "source": [
        "1- Simulacion de la probabilidad de la maquina hacer camisas buenas, vemos que este numero varia"
      ]
    },
    {
      "cell_type": "code",
      "metadata": {
        "colab": {
          "base_uri": "https://localhost:8080/"
        },
        "id": "Epwef5AoZUuu",
        "outputId": "25bd9ca3-7a22-4332-db66-884d8d631b48"
      },
      "source": [
        "from scipy.stats import bernoulli\n",
        "\n",
        "p_buena = 0.7\n",
        "\n",
        "data = []\n",
        "\n",
        "data.append(sum(bernoulli.rvs(p=p_buena, size= 100)))\n",
        "    \n",
        "print(data)"
      ],
      "execution_count": 4,
      "outputs": [
        {
          "output_type": "stream",
          "text": [
            "[76]\n"
          ],
          "name": "stdout"
        }
      ]
    },
    {
      "cell_type": "markdown",
      "metadata": {
        "id": "gSn7G3sRZWxm"
      },
      "source": [
        "Haciendo uso de distribucion binomial, en este caso usamos la maquina 20 veces y analisas si la fabrica llega a completar el pedido\n",
        "\n",
        "\n",
        "\n",
        "*   Al dejar el numeroo size = 20 vemos que el numero se acerca algo a los 1400\n",
        "*   Pero aca juega un papel importante que es la escuela frecuentista, porque?\n",
        "porque al agrandar el numero de (size) por ejemplo un valor de 200000, vemos que se cumpe la distribucion normal, estando el valor muy cercano a %70, intentalo por tu mismo\n",
        "\n"
      ]
    },
    {
      "cell_type": "code",
      "metadata": {
        "colab": {
          "base_uri": "https://localhost:8080/",
          "height": 282
        },
        "id": "SQqRukXgZXX_",
        "outputId": "da99907a-7a7a-458b-f513-a629a37d9599"
      },
      "source": [
        "import pandas as pd\n",
        "from scipy.stats import binom\n",
        "import matplotlib.pyplot as plt\n",
        "from numpy.random import binomial\n",
        "\n",
        "\n",
        "simu = pd.Series(binom.rvs( p=p_buena, n = 100, size = 20))\n",
        "x = list(simu.value_counts().index)\n",
        "y = list(simu.value_counts()/20)\n",
        "\n",
        "plt.bar(x, y, label = 'simulación', alpha = 0.5, color = 'blue')\n",
        "\n",
        "print(f'Total de camisas en 20 sesiones: {sum(simu)}')\n"
      ],
      "execution_count": 58,
      "outputs": [
        {
          "output_type": "stream",
          "text": [
            "Total de camisas en 20 sesiones: 1381\n"
          ],
          "name": "stdout"
        },
        {
          "output_type": "display_data",
          "data": {
            "image/png": "[encoded data removed]",
            "text/plain": [
              "<Figure size 432x288 with 1 Axes>"
            ]
          },
          "metadata": {
            "tags": [],
            "needs_background": "light"
          }
        }
      ]
    }
  ]
}